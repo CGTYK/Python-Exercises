{
 "cells": [
  {
   "cell_type": "markdown",
   "metadata": {},
   "source": [
    "# ANDERSON-DARLING TEST"
   ]
  },
  {
   "cell_type": "raw",
   "metadata": {},
   "source": [
    "The hypotheses for the AD-test are:\n",
    "\n",
    "    H0  : The data comes from a specified distribution.\n",
    "    H1  : The data does not come from a specified distribution."
   ]
  },
  {
   "cell_type": "code",
   "execution_count": 32,
   "metadata": {},
   "outputs": [],
   "source": [
    "#Lib.\n",
    "from numpy.random import seed \n",
    "from numpy.random import randn \n",
    "from scipy.stats import anderson \n"
   ]
  },
  {
   "cell_type": "code",
   "execution_count": 33,
   "metadata": {},
   "outputs": [],
   "source": [
    "seed(1)                         # seed the random number generator\n",
    "data = 5 * randn(100) + 70      # generate univa observations \n",
    "result = anderson(data)\n",
    "                  "
   ]
  },
  {
   "cell_type": "code",
   "execution_count": 34,
   "metadata": {},
   "outputs": [
    {
     "data": {
      "text/plain": [
       "array([78.12172682, 66.94121793, 67.35914124, 64.63515689, 74.32703815,\n",
       "       58.49230652, 78.72405882, 66.1939655 , 71.59519548, 68.75314812,\n",
       "       77.31053969, 59.69929645, 68.38791398, 68.07972823, 75.66884721,\n",
       "       64.50054366, 69.13785896, 65.61070791, 70.21106873, 72.91407607,\n",
       "       64.49690411, 75.72361855, 74.5079536 , 72.51247169, 74.50427975,\n",
       "       66.5813607 , 69.38554887, 65.32115283, 68.6605596 , 72.65177733,\n",
       "       66.54169624, 68.01623237, 66.5641365 , 65.77397179, 66.64376935,\n",
       "       69.93667701, 64.41344826, 71.17207849, 78.29901089, 73.7102208 ,\n",
       "       69.04082224, 65.56185518, 66.26420853, 78.46227301, 70.25403877,\n",
       "       66.81502177, 70.95457742, 80.50127568, 70.60079476, 73.08601555,\n",
       "       71.5008516 , 68.23875077, 64.28740901, 68.25328639, 68.95552883,\n",
       "       72.93311596, 74.19491707, 74.65551041, 71.42793663, 74.42570582,\n",
       "       66.2280103 , 76.26434078, 72.5646491 , 68.50953582, 72.44259073,\n",
       "       69.62214143, 75.65814694, 77.59908408, 80.92787703, 63.01751832,\n",
       "       62.77943097, 67.47767069, 70.80018535, 74.38084461, 71.57817474,\n",
       "       59.88899392, 68.46897994, 74.13987321, 71.15047368, 73.8100559 ,\n",
       "       68.88835929, 68.99620966, 70.93280695, 72.05025824, 70.9914986 ,\n",
       "       70.59504323, 66.64668857, 71.88781893, 70.60910635, 75.64741954,\n",
       "       75.9945894 , 70.92578209, 68.12357525, 66.80634796, 72.11747177,\n",
       "       70.38670034, 68.28073162, 70.21798428, 66.89999578, 73.49016017])"
      ]
     },
     "execution_count": 34,
     "metadata": {},
     "output_type": "execute_result"
    }
   ],
   "source": [
    "data"
   ]
  },
  {
   "cell_type": "code",
   "execution_count": 35,
   "metadata": {},
   "outputs": [
    {
     "data": {
      "text/plain": [
       "AndersonResult(statistic=0.21965088555941747, critical_values=array([0.555, 0.632, 0.759, 0.885, 1.053]), significance_level=array([15. , 10. ,  5. ,  2.5,  1. ]))"
      ]
     },
     "execution_count": 35,
     "metadata": {},
     "output_type": "execute_result"
    }
   ],
   "source": [
    "result"
   ]
  },
  {
   "cell_type": "code",
   "execution_count": 36,
   "metadata": {},
   "outputs": [
    {
     "name": "stdout",
     "output_type": "stream",
     "text": [
      "Statistic 0.220\n",
      "15.000: 0.555, data looks normal\n",
      "10.000: 0.632, data looks normal\n",
      "5.000: 0.759, data looks normal\n",
      "2.500: 0.885, data looks normal\n",
      "1.000: 1.053, data looks normal\n"
     ]
    }
   ],
   "source": [
    "print('Statistic %.3f' % result.statistic )\n",
    "\n",
    "p=0\n",
    "for i in range (len(result.critical_values)):\n",
    "    sl , cv = result.significance_level[i] , result.critical_values[i]\n",
    "    \n",
    "    if result.statistic < result.critical_values[i]: \n",
    "        print('%.3f: %.3f, data looks normal'  % (sl,cv))\n",
    "    else:\n",
    "        print('%.3f: %.3f, data does not look normal'  % (sl,cv))\n",
    "    "
   ]
  }
 ],
 "metadata": {
  "kernelspec": {
   "display_name": "Python 3",
   "language": "python",
   "name": "python3"
  },
  "language_info": {
   "codemirror_mode": {
    "name": "ipython",
    "version": 3
   },
   "file_extension": ".py",
   "mimetype": "text/x-python",
   "name": "python",
   "nbconvert_exporter": "python",
   "pygments_lexer": "ipython3",
   "version": "3.8.3"
  }
 },
 "nbformat": 4,
 "nbformat_minor": 4
}
